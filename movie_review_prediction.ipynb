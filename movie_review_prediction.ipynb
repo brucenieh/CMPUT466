{
 "cells": [
  {
   "cell_type": "code",
   "execution_count": 21,
   "metadata": {},
   "outputs": [
    {
     "name": "stdout",
     "output_type": "stream",
     "text": [
      "The autoreload extension is already loaded. To reload it, use:\n",
      "  %reload_ext autoreload\n"
     ]
    }
   ],
   "source": [
    "%load_ext autoreload\n"
   ]
  },
  {
   "cell_type": "code",
   "execution_count": 23,
   "metadata": {},
   "outputs": [],
   "source": [
    "%autoreload 2"
   ]
  },
  {
   "cell_type": "code",
   "execution_count": 14,
   "metadata": {},
   "outputs": [],
   "source": [
    "import raw.readingfiles as readfiles\n",
    "from models.ngrams import Ngrams\n",
    "from util import evaluate, k_fold\n",
    "from matplotlib import pyplot as plt\n",
    "import importlib\n",
    "import numpy as np\n"
   ]
  },
  {
   "cell_type": "code",
   "execution_count": 2,
   "metadata": {},
   "outputs": [],
   "source": [
    "data_set = k_fold(10, 'training_data.csv')"
   ]
  },
  {
   "cell_type": "markdown",
   "metadata": {},
   "source": [
    "## N-gram Model"
   ]
  },
  {
   "cell_type": "markdown",
   "metadata": {},
   "source": [
    "### Parameter Tweaking"
   ]
  },
  {
   "cell_type": "code",
   "execution_count": 27,
   "metadata": {},
   "outputs": [
    {
     "name": "stdout",
     "output_type": "stream",
     "text": [
      "[2, 0.1152, 22951.48523320898]\n",
      "[3, 0.1764, 143521.12084669698]\n",
      "[4, 0.1764, 431622.7995401067]\n",
      "[5, 0.1252, 710802.9769312381]\n",
      "[6, 0.0828, 868000.7112089177]\n",
      "[7, 0.0568, 940000.2132040319]\n",
      "[8, 0.042, 970400.0960488445]\n",
      "[9, 0.038, 979200.0440359877]\n",
      "[10, 0.0344, 984800.0279772903]\n"
     ]
    }
   ],
   "source": [
    "performance = []\n",
    "for n in range(2,11):\n",
    "    ngrams_model = Ngrams(n)\n",
    "    accuracy, perplexity = evaluate(ngrams_model,\n",
    "                                    data_set[0].training_set,\n",
    "                                    data_set[0].validation_set)\n",
    "    performance.append([n,accuracy,perplexity])\n",
    "    print([n,accuracy,perplexity])"
   ]
  },
  {
   "cell_type": "code",
   "execution_count": 28,
   "metadata": {},
   "outputs": [
    {
     "name": "stdout",
     "output_type": "stream",
     "text": [
      "[[2.00000000e+00 1.15200000e-01 2.29514852e+04]\n",
      " [3.00000000e+00 1.76400000e-01 1.43521121e+05]\n",
      " [4.00000000e+00 1.76400000e-01 4.31622800e+05]\n",
      " [5.00000000e+00 1.25200000e-01 7.10802977e+05]\n",
      " [6.00000000e+00 8.28000000e-02 8.68000711e+05]\n",
      " [7.00000000e+00 5.68000000e-02 9.40000213e+05]\n",
      " [8.00000000e+00 4.20000000e-02 9.70400096e+05]\n",
      " [9.00000000e+00 3.80000000e-02 9.79200044e+05]\n",
      " [1.00000000e+01 3.44000000e-02 9.84800028e+05]]\n"
     ]
    },
    {
     "data": {
      "image/png": "[encoded data removed]",
      "text/plain": [
       "<Figure size 432x288 with 2 Axes>"
      ]
     },
     "metadata": {
      "needs_background": "light"
     },
     "output_type": "display_data"
    }
   ],
   "source": [
    "figure = plt.figure()\n",
    "new_per = np.asarray(performance)\n",
    "print(new_per)\n",
    "plt.subplot(211)\n",
    "plt.plot(new_per[:,0],new_per[:,1],\".-\")\n",
    "plt.title('N vs Accuracy')\n",
    "plt.subplot(212)\n",
    "plt.plot(new_per[:,0],new_per[:,2],\".-\")\n",
    "plt.title('N vs Perplexity')\n",
    "figure.tight_layout(pad=3.0)\n",
    "plt.show()"
   ]
  }
 ],
 "metadata": {
  "kernelspec": {
   "display_name": "Python 3",
   "language": "python",
   "name": "python3"
  },
  "language_info": {
   "codemirror_mode": {
    "name": "ipython",
    "version": 3
   },
   "file_extension": ".py",
   "mimetype": "text/x-python",
   "name": "python",
   "nbconvert_exporter": "python",
   "pygments_lexer": "ipython3",
   "version": "3.8.5"
  }
 },
 "nbformat": 4,
 "nbformat_minor": 4
}
